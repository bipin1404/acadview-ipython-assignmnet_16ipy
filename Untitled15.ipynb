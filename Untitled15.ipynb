{
  "nbformat": 4,
  "nbformat_minor": 0,
  "metadata": {
    "colab": {
      "name": "Untitled15.ipynb",
      "version": "0.3.2",
      "provenance": [],
      "include_colab_link": true
    },
    "kernelspec": {
      "name": "python3",
      "display_name": "Python 3"
    }
  },
  "cells": [
    {
      "cell_type": "markdown",
      "metadata": {
        "id": "view-in-github",
        "colab_type": "text"
      },
      "source": [
        "[View in Colaboratory](https://colab.research.google.com/github/bipin1404/acadview-ipython-assignmnet_16ipy/blob/master/Untitled15.ipynb)"
      ]
    },
    {
      "metadata": {
        "id": "XCyfx_vTtrWR",
        "colab_type": "code",
        "colab": {}
      },
      "cell_type": "code",
      "source": [
        "import pandas as pd\n",
        "import numpy as np\n",
        "import matplotlib.pyplot as pl\n",
        "import seaborn as sns\n",
        "%matplotlib inline"
      ],
      "execution_count": 0,
      "outputs": []
    },
    {
      "metadata": {
        "id": "vODuvwi6uQZI",
        "colab_type": "code",
        "colab": {}
      },
      "cell_type": "code",
      "source": [
        "from sklearn import datasets\n",
        "digits = datasets.load_digits()\n",
        "x1 = digits['data']\n",
        "y = digits['target']"
      ],
      "execution_count": 0,
      "outputs": []
    },
    {
      "metadata": {
        "id": "9NeyQ9iEvXsE",
        "colab_type": "code",
        "colab": {
          "base_uri": "https://localhost:8080/",
          "height": 51
        },
        "outputId": "cf37615a-600c-45d1-96e5-810cda3f2a51"
      },
      "cell_type": "code",
      "source": [
        "print(x1.shape)\n",
        "print(y.shape)"
      ],
      "execution_count": 85,
      "outputs": [
        {
          "output_type": "stream",
          "text": [
            "(1797, 64)\n",
            "(1797,)\n"
          ],
          "name": "stdout"
        }
      ]
    },
    {
      "metadata": {
        "id": "I6PMBBRF3hvi",
        "colab_type": "text"
      },
      "cell_type": "markdown",
      "source": [
        "# **without scaler**"
      ]
    },
    {
      "metadata": {
        "id": "dhc4DryN3mSf",
        "colab_type": "code",
        "colab": {}
      },
      "cell_type": "code",
      "source": [
        "from sklearn.metrics import confusion_matrix, classification_report\n",
        "from sklearn.linear_model import LogisticRegression\n",
        "from sklearn.model_selection import train_test_split\n",
        "x_train, x_test, y_train, y_test = train_test_split(x1, y, test_size=0.30, random_state=10)"
      ],
      "execution_count": 0,
      "outputs": []
    },
    {
      "metadata": {
        "id": "772hmpvs387J",
        "colab_type": "code",
        "colab": {}
      },
      "cell_type": "code",
      "source": [
        "reg2 = LogisticRegression(random_state =10)\n",
        "reg2.fit(x_train, y_train)\n",
        "y_pred = reg2.predict(x_test)\n"
      ],
      "execution_count": 0,
      "outputs": []
    },
    {
      "metadata": {
        "id": "Yw8zIjRS4Csa",
        "colab_type": "code",
        "colab": {
          "base_uri": "https://localhost:8080/",
          "height": 34
        },
        "outputId": "e147a072-88b1-4a06-bd48-275100f8d7de"
      },
      "cell_type": "code",
      "source": [
        "\n",
        "print (\"Accuracy score:=\", reg2.score(x_test,y_test))"
      ],
      "execution_count": 66,
      "outputs": [
        {
          "output_type": "stream",
          "text": [
            "Accuracy score:= 0.9629629629629629\n"
          ],
          "name": "stdout"
        }
      ]
    },
    {
      "metadata": {
        "id": "vjoT7cwH4Gve",
        "colab_type": "code",
        "colab": {
          "base_uri": "https://localhost:8080/",
          "height": 221
        },
        "outputId": "2e19c98e-dacc-40b5-d25b-b063c952670b"
      },
      "cell_type": "code",
      "source": [
        "print (\"\\nConfusion matrix: \\n\", confusion_matrix(y_test, y_pred))"
      ],
      "execution_count": 67,
      "outputs": [
        {
          "output_type": "stream",
          "text": [
            "\n",
            "Confusion matrix: \n",
            " [[51  0  0  0  0  0  0  0  0  0]\n",
            " [ 0 55  0  0  1  0  0  0  1  0]\n",
            " [ 0  0 55  0  0  0  0  0  0  0]\n",
            " [ 0  0  0 53  0  2  0  0  1  0]\n",
            " [ 0  2  0  0 48  0  0  0  1  0]\n",
            " [ 0  2  0  0  0 49  0  0  0  0]\n",
            " [ 0  0  0  0  0  0 55  0  0  0]\n",
            " [ 0  0  0  1  0  0  0 59  0  0]\n",
            " [ 0  2  1  1  0  0  0  0 46  0]\n",
            " [ 0  0  0  0  0  1  0  0  4 49]]\n"
          ],
          "name": "stdout"
        }
      ]
    },
    {
      "metadata": {
        "id": "7P2YA_Qn4PsU",
        "colab_type": "code",
        "colab": {
          "base_uri": "https://localhost:8080/",
          "height": 289
        },
        "outputId": "4d073b37-90d1-4bcc-fcaa-478699e24e16"
      },
      "cell_type": "code",
      "source": [
        "print (\"\\nClassification Report=\", classification_report(y_test, y_pred))"
      ],
      "execution_count": 68,
      "outputs": [
        {
          "output_type": "stream",
          "text": [
            "\n",
            "Classification Report=              precision    recall  f1-score   support\n",
            "\n",
            "          0       1.00      1.00      1.00        51\n",
            "          1       0.90      0.96      0.93        57\n",
            "          2       0.98      1.00      0.99        55\n",
            "          3       0.96      0.95      0.95        56\n",
            "          4       0.98      0.94      0.96        51\n",
            "          5       0.94      0.96      0.95        51\n",
            "          6       1.00      1.00      1.00        55\n",
            "          7       1.00      0.98      0.99        60\n",
            "          8       0.87      0.92      0.89        50\n",
            "          9       1.00      0.91      0.95        54\n",
            "\n",
            "avg / total       0.96      0.96      0.96       540\n",
            "\n"
          ],
          "name": "stdout"
        }
      ]
    },
    {
      "metadata": {
        "id": "75jZObLk6bpt",
        "colab_type": "text"
      },
      "cell_type": "markdown",
      "source": [
        "# **WITH SCALER**"
      ]
    },
    {
      "metadata": {
        "id": "9fs4Pn0gvkWT",
        "colab_type": "code",
        "colab": {}
      },
      "cell_type": "code",
      "source": [
        "from sklearn.preprocessing import StandardScaler\n",
        "from sklearn.model_selection import train_test_split\n",
        "sscaler = StandardScaler()\n",
        "x = sscaler.fit_transform(x1)\n",
        "x_train1, x_test1, y_train1, y_test1 = train_test_split(x, y, test_size=0.30, random_state=10)"
      ],
      "execution_count": 0,
      "outputs": []
    },
    {
      "metadata": {
        "id": "vBh3eAKexPBU",
        "colab_type": "text"
      },
      "cell_type": "markdown",
      "source": [
        "# **1>without pca**"
      ]
    },
    {
      "metadata": {
        "id": "CREuPWRzxysb",
        "colab_type": "code",
        "colab": {}
      },
      "cell_type": "code",
      "source": [
        "from sklearn.metrics import confusion_matrix, classification_report\n",
        "from sklearn.linear_model import LogisticRegression\n"
      ],
      "execution_count": 0,
      "outputs": []
    },
    {
      "metadata": {
        "id": "NbaVBx-5w5xa",
        "colab_type": "code",
        "colab": {
          "base_uri": "https://localhost:8080/",
          "height": 34
        },
        "outputId": "3865dee6-05bb-4cb8-de44-b7c753017290"
      },
      "cell_type": "code",
      "source": [
        "reg = LogisticRegression(random_state =10)\n",
        "\n",
        "reg.fit(x_train1, y_train1)\n",
        "y_pred = reg.predict(x_test1)\n",
        "\n",
        "print (\"Accuracy score:=\", reg.score(x_test1,y_test1))"
      ],
      "execution_count": 91,
      "outputs": [
        {
          "output_type": "stream",
          "text": [
            "Accuracy score:= 0.9611111111111111\n"
          ],
          "name": "stdout"
        }
      ]
    },
    {
      "metadata": {
        "id": "LGVyPvC7xM_-",
        "colab_type": "code",
        "colab": {
          "base_uri": "https://localhost:8080/",
          "height": 221
        },
        "outputId": "d28b7b51-b75b-4fbe-e3ab-c309ca369c4a"
      },
      "cell_type": "code",
      "source": [
        "\n",
        "print (\"\\nConfusion matrix: \\n\", confusion_matrix(y_test1, y_pred))"
      ],
      "execution_count": 93,
      "outputs": [
        {
          "output_type": "stream",
          "text": [
            "\n",
            "Confusion matrix: \n",
            " [[51  0  0  0  0  0  0  0  0  0]\n",
            " [ 0 54  1  0  0  0  0  0  2  0]\n",
            " [ 0  0 55  0  0  0  0  0  0  0]\n",
            " [ 0  0  0 54  0  0  0  0  2  0]\n",
            " [ 0  1  0  0 48  0  0  0  1  1]\n",
            " [ 0  0  0  0  0 51  0  0  0  0]\n",
            " [ 0  0  0  0  0  0 55  0  0  0]\n",
            " [ 0  0  0  1  0  0  0 59  0  0]\n",
            " [ 0  3  1  1  0  0  0  0 44  1]\n",
            " [ 0  0  0  0  0  1  0  1  4 48]]\n"
          ],
          "name": "stdout"
        }
      ]
    },
    {
      "metadata": {
        "id": "dgQErJDsyBDg",
        "colab_type": "code",
        "colab": {
          "base_uri": "https://localhost:8080/",
          "height": 289
        },
        "outputId": "1ff20149-dbc4-46a1-ea03-ad4561a2ce4c"
      },
      "cell_type": "code",
      "source": [
        "\n",
        "print (\"\\nClassification Report=\", classification_report(y_test1, y_pred))"
      ],
      "execution_count": 94,
      "outputs": [
        {
          "output_type": "stream",
          "text": [
            "\n",
            "Classification Report=              precision    recall  f1-score   support\n",
            "\n",
            "          0       1.00      1.00      1.00        51\n",
            "          1       0.93      0.95      0.94        57\n",
            "          2       0.96      1.00      0.98        55\n",
            "          3       0.96      0.96      0.96        56\n",
            "          4       1.00      0.94      0.97        51\n",
            "          5       0.98      1.00      0.99        51\n",
            "          6       1.00      1.00      1.00        55\n",
            "          7       0.98      0.98      0.98        60\n",
            "          8       0.83      0.88      0.85        50\n",
            "          9       0.96      0.89      0.92        54\n",
            "\n",
            "avg / total       0.96      0.96      0.96       540\n",
            "\n"
          ],
          "name": "stdout"
        }
      ]
    },
    {
      "metadata": {
        "id": "Xo8epEPMzfoT",
        "colab_type": "text"
      },
      "cell_type": "markdown",
      "source": [
        "# **2>WITH PCA**"
      ]
    },
    {
      "metadata": {
        "id": "c0mJLcMkz5Gh",
        "colab_type": "code",
        "colab": {}
      },
      "cell_type": "code",
      "source": [
        "from sklearn.metrics import confusion_matrix, classification_report\n",
        "from sklearn.linear_model import LogisticRegression\n"
      ],
      "execution_count": 0,
      "outputs": []
    },
    {
      "metadata": {
        "id": "CsY1BOZrwPfC",
        "colab_type": "code",
        "colab": {}
      },
      "cell_type": "code",
      "source": [
        "from sklearn.decomposition import PCA\n",
        "\n",
        "pca = PCA(n_components=0.95)\n",
        "\n",
        "x_train_pca = pca.fit_transform(x_train1)"
      ],
      "execution_count": 0,
      "outputs": []
    },
    {
      "metadata": {
        "id": "xKee3yn8zcOb",
        "colab_type": "code",
        "colab": {
          "base_uri": "https://localhost:8080/",
          "height": 34
        },
        "outputId": "e1112817-687a-44ae-f4c0-44ea1d39ec69"
      },
      "cell_type": "code",
      "source": [
        "reg1 = LogisticRegression(random_state = 10)\n",
        "reg1.fit(x_train1, y_train1)\n",
        "y_pred = reg1.predict(x_test)\n",
        "print( \"Accuracy score: \", reg1.score(x_test1, y_test1))"
      ],
      "execution_count": 96,
      "outputs": [
        {
          "output_type": "stream",
          "text": [
            "Accuracy score:  0.9611111111111111\n"
          ],
          "name": "stdout"
        }
      ]
    },
    {
      "metadata": {
        "id": "IM-pLLmexNVD",
        "colab_type": "code",
        "colab": {
          "base_uri": "https://localhost:8080/",
          "height": 204
        },
        "outputId": "c164d959-8ee6-4d01-d53c-4084b2c7fd15"
      },
      "cell_type": "code",
      "source": [
        "\n",
        "print (\"\\nConfusion matrix=\", confusion_matrix(y_test1, y_pred))"
      ],
      "execution_count": 97,
      "outputs": [
        {
          "output_type": "stream",
          "text": [
            "\n",
            "Confusion matrix= [[49  0  0  0  0  0  0  0  2  0]\n",
            " [ 0 55  0  0  0  0  0  0  2  0]\n",
            " [ 0  3 47  0  0  0  0  0  5  0]\n",
            " [ 0  2  0 47  0  1  0  0  6  0]\n",
            " [ 0 14  0  0 28  0  5  0  3  1]\n",
            " [ 0  4  0  0  0 47  0  0  0  0]\n",
            " [ 0  3  0  0  0  0 52  0  0  0]\n",
            " [ 0  3  0  0  0  0  0 51  6  0]\n",
            " [ 0  4  0  0  0  0  0  0 46  0]\n",
            " [ 0  1  0  0  0  1  0  0 10 42]]\n"
          ],
          "name": "stdout"
        }
      ]
    },
    {
      "metadata": {
        "id": "IU1ccFwUxOP8",
        "colab_type": "code",
        "colab": {
          "base_uri": "https://localhost:8080/",
          "height": 289
        },
        "outputId": "877de927-698e-4c71-d391-cacd07cce3a3"
      },
      "cell_type": "code",
      "source": [
        "\n",
        "print( \"\\nClassification Report=\", classification_report(y_test1, y_pred))"
      ],
      "execution_count": 98,
      "outputs": [
        {
          "output_type": "stream",
          "text": [
            "\n",
            "Classification Report=              precision    recall  f1-score   support\n",
            "\n",
            "          0       1.00      0.96      0.98        51\n",
            "          1       0.62      0.96      0.75        57\n",
            "          2       1.00      0.85      0.92        55\n",
            "          3       1.00      0.84      0.91        56\n",
            "          4       1.00      0.55      0.71        51\n",
            "          5       0.96      0.92      0.94        51\n",
            "          6       0.91      0.95      0.93        55\n",
            "          7       1.00      0.85      0.92        60\n",
            "          8       0.57      0.92      0.71        50\n",
            "          9       0.98      0.78      0.87        54\n",
            "\n",
            "avg / total       0.91      0.86      0.87       540\n",
            "\n"
          ],
          "name": "stdout"
        }
      ]
    }
  ]
}